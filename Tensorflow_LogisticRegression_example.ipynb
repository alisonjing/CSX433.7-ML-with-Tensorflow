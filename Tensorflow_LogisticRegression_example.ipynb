{
 "cells": [
  {
   "cell_type": "code",
   "execution_count": 1,
   "metadata": {},
   "outputs": [
    {
     "name": "stderr",
     "output_type": "stream",
     "text": [
      "/Users/Jing/anaconda3/lib/python3.6/site-packages/h5py/__init__.py:34: FutureWarning: Conversion of the second argument of issubdtype from `float` to `np.floating` is deprecated. In future, it will be treated as `np.float64 == np.dtype(float).type`.\n",
      "  from ._conv import register_converters as _register_converters\n"
     ]
    }
   ],
   "source": [
    "import numpy as np\n",
    "import tensorflow as tf\n",
    "import matplotlib.pyplot as plt\n",
    "%matplotlib inline"
   ]
  },
  {
   "cell_type": "code",
   "execution_count": 2,
   "metadata": {
    "collapsed": true
   },
   "outputs": [],
   "source": [
    "learning_rate = 0.01\n",
    "training_epochs = 500"
   ]
  },
  {
   "cell_type": "code",
   "execution_count": 3,
   "metadata": {
    "collapsed": true
   },
   "outputs": [],
   "source": [
    "#Define the sigmoid function:\n",
    "def sigmoid(x):\n",
    "    return 1. / (1.+np.exp(-x))"
   ]
  },
  {
   "cell_type": "code",
   "execution_count": 4,
   "metadata": {},
   "outputs": [
    {
     "data": {
      "text/plain": [
       "<matplotlib.collections.PathCollection at 0x116bdec50>"
      ]
     },
     "execution_count": 4,
     "metadata": {},
     "output_type": "execute_result"
    },
    {
     "data": {
      "image/png": "[encoded data removed]",
      "text/plain": [
       "<matplotlib.figure.Figure at 0x116b87828>"
      ]
     },
     "metadata": {},
     "output_type": "display_data"
    }
   ],
   "source": [
    "#Create our data points on the x and y-axis:\n",
    "x1 = np.random.normal(5,3,100)\n",
    "x2 = np.random.normal(-5,3,100)\n",
    "xs = np.append(x1, x2)\n",
    "ys = np.asarray([0.1] * len(x1) + [1.]*len(x2))\n",
    "plt.scatter(xs, ys)"
   ]
  },
  {
   "cell_type": "code",
   "execution_count": 5,
   "metadata": {
    "collapsed": true
   },
   "outputs": [],
   "source": [
    "# Create our parameters and placeholders for X and Y to feed them with the\n",
    "# data above:\n",
    "X = tf.placeholder(tf.float32, shape=(None,), name=\"x\")\n",
    "Y = tf.placeholder(tf.float32, shape=(None,), name=\"y\")\n",
    "w = tf.Variable([0.,0,], name=\"parameter\", trainable=True)\n",
    "y_model = tf.sigmoid(-w[1]*X +w[0])"
   ]
  },
  {
   "cell_type": "code",
   "execution_count": 6,
   "metadata": {
    "collapsed": true
   },
   "outputs": [],
   "source": [
    "# Calculate the cost and adaption (learning):\n",
    "cost = tf.reduce_mean(-tf.log(y_model * Y + (1-y_model) * (1-Y)))\n",
    "train_op = tf.train.GradientDescentOptimizer(learning_rate).minimize(cost)"
   ]
  },
  {
   "cell_type": "code",
   "execution_count": 7,
   "metadata": {},
   "outputs": [
    {
     "name": "stdout",
     "output_type": "stream",
     "text": [
      "0 0.6931474\n",
      "1 0.6500484\n",
      "2 0.6122459\n",
      "3 0.579097\n",
      "4 0.54998374\n",
      "5 0.524343\n",
      "6 0.50167865\n",
      "7 0.48156264\n",
      "8 0.46363094\n",
      "9 0.44757596\n",
      "10 0.43313873\n",
      "11 0.42010158\n",
      "12 0.40828088\n",
      "13 0.39752185\n",
      "14 0.38769343\n",
      "15 0.37868404\n",
      "16 0.37039855\n",
      "17 0.36275554\n",
      "18 0.35568482\n",
      "19 0.34912586\n",
      "20 0.34302616\n",
      "21 0.3373398\n",
      "22 0.3320269\n",
      "23 0.3270523\n",
      "24 0.3223852\n",
      "25 0.31799802\n",
      "26 0.3138668\n",
      "27 0.3099699\n",
      "28 0.30628812\n",
      "29 0.30280423\n",
      "30 0.29950276\n",
      "31 0.2963699\n",
      "32 0.2933932\n",
      "33 0.29056126\n",
      "34 0.28786382\n",
      "35 0.28529158\n",
      "36 0.28283608\n",
      "37 0.28048962\n",
      "38 0.27824506\n",
      "39 0.2760959\n",
      "40 0.27403635\n",
      "41 0.27206078\n",
      "42 0.27016437\n",
      "43 0.26834226\n",
      "44 0.26659036\n",
      "45 0.26490462\n",
      "46 0.26328143\n",
      "47 0.26171735\n",
      "48 0.26020917\n",
      "49 0.25875404\n",
      "50 0.25734925\n",
      "51 0.2559922\n",
      "52 0.2546805\n",
      "53 0.25341192\n",
      "54 0.25218442\n",
      "55 0.250996\n",
      "56 0.2498449\n",
      "57 0.24872932\n",
      "58 0.2476477\n",
      "59 0.24659854\n",
      "60 0.24558038\n",
      "61 0.2445919\n",
      "62 0.24363178\n",
      "63 0.2426989\n",
      "64 0.24179205\n",
      "65 0.24091019\n",
      "66 0.24005234\n",
      "67 0.23921753\n",
      "68 0.23840488\n",
      "69 0.23761345\n",
      "70 0.2368425\n",
      "71 0.2360912\n",
      "72 0.23535883\n",
      "73 0.23464474\n",
      "74 0.23394822\n",
      "75 0.23326862\n",
      "76 0.23260537\n",
      "77 0.2319579\n",
      "78 0.23132561\n",
      "79 0.23070805\n",
      "80 0.23010467\n",
      "81 0.229515\n",
      "82 0.22893858\n",
      "83 0.22837502\n",
      "84 0.22782385\n",
      "85 0.22728465\n",
      "86 0.22675712\n",
      "87 0.22624084\n",
      "88 0.22573544\n",
      "89 0.22524063\n",
      "90 0.22475605\n",
      "91 0.22428143\n",
      "92 0.22381644\n",
      "93 0.22336082\n",
      "94 0.22291428\n",
      "95 0.22247654\n",
      "96 0.22204737\n",
      "97 0.22162655\n",
      "98 0.22121374\n",
      "99 0.22080886\n",
      "100 0.22041158\n",
      "101 0.22002174\n",
      "102 0.21963912\n",
      "103 0.21926354\n",
      "104 0.21889478\n",
      "105 0.21853271\n",
      "106 0.21817711\n",
      "107 0.21782784\n",
      "108 0.21748474\n",
      "109 0.21714762\n",
      "110 0.21681634\n",
      "111 0.21649075\n",
      "112 0.21617073\n",
      "113 0.21585609\n",
      "114 0.2155468\n",
      "115 0.21524261\n",
      "116 0.21494347\n",
      "117 0.21464925\n",
      "118 0.21435982\n",
      "119 0.21407504\n",
      "120 0.21379486\n",
      "121 0.21351914\n",
      "122 0.21324776\n",
      "123 0.21298069\n",
      "124 0.21271774\n",
      "125 0.21245888\n",
      "126 0.21220398\n",
      "127 0.21195297\n",
      "128 0.21170577\n",
      "129 0.21146229\n",
      "130 0.21122245\n",
      "131 0.21098618\n",
      "132 0.21075338\n",
      "133 0.210524\n",
      "134 0.21029794\n",
      "135 0.21007515\n",
      "136 0.20985557\n",
      "137 0.20963915\n",
      "138 0.20942573\n",
      "139 0.20921539\n",
      "140 0.20900795\n",
      "141 0.20880339\n",
      "142 0.20860167\n",
      "143 0.20840272\n",
      "144 0.20820647\n",
      "145 0.20801291\n",
      "146 0.20782197\n",
      "147 0.20763355\n",
      "148 0.20744762\n",
      "149 0.20726417\n",
      "150 0.20708315\n",
      "151 0.20690453\n",
      "152 0.20672818\n",
      "153 0.20655413\n",
      "154 0.20638229\n",
      "155 0.2062127\n",
      "156 0.20604523\n",
      "157 0.20587987\n",
      "158 0.2057166\n",
      "159 0.20555538\n",
      "160 0.20539616\n",
      "161 0.20523888\n",
      "162 0.20508356\n",
      "163 0.20493013\n",
      "164 0.20477855\n",
      "165 0.20462885\n",
      "166 0.20448092\n",
      "167 0.20433475\n",
      "168 0.20419033\n",
      "169 0.20404762\n",
      "170 0.2039066\n",
      "171 0.20376717\n",
      "172 0.20362942\n",
      "173 0.20349327\n",
      "174 0.2033587\n",
      "175 0.20322563\n",
      "176 0.20309414\n",
      "177 0.20296408\n",
      "178 0.2028355\n",
      "179 0.20270838\n",
      "180 0.20258266\n",
      "181 0.20245837\n",
      "182 0.20233543\n",
      "183 0.20221388\n",
      "184 0.20209365\n",
      "185 0.20197472\n",
      "186 0.20185708\n",
      "187 0.2017407\n",
      "188 0.20162563\n",
      "189 0.20151171\n",
      "190 0.20139906\n",
      "191 0.2012876\n",
      "192 0.2011773\n",
      "193 0.20106815\n",
      "194 0.20096016\n",
      "195 0.20085329\n",
      "196 0.20074755\n",
      "197 0.20064285\n",
      "198 0.20053929\n",
      "199 0.20043674\n",
      "200 0.20033523\n",
      "201 0.20023477\n",
      "202 0.20013532\n"
     ]
    }
   ],
   "source": [
    "# Run the model:\n",
    "with tf.Session() as sess:\n",
    "    sess.run(tf.global_variables_initializer())\n",
    "    prev_err = 0\n",
    "    for epoch in range(training_epochs):\n",
    "        err, _ = sess.run([cost, train_op], {X: xs, Y: ys}) \n",
    "        print(epoch, err)\n",
    "        if abs(prev_err - err) <0.0001: # adjust to see curve chage with epochs\n",
    "            break  #check whrn the error is small enough to quit\n",
    "        prev_err = err\n",
    "    w_val = sess.run(w, {X: xs, Y:ys}) "
   ]
  },
  {
   "cell_type": "code",
   "execution_count": 8,
   "metadata": {},
   "outputs": [
    {
     "data": {
      "image/png": "[encoded data removed]",
      "text/plain": [
       "<matplotlib.figure.Figure at 0x116b72f98>"
      ]
     },
     "metadata": {},
     "output_type": "display_data"
    },
    {
     "name": "stdout",
     "output_type": "stream",
     "text": [
      "202 0.20013532\n"
     ]
    }
   ],
   "source": [
    "# Plot the resulting sigmoid:\n",
    "all_xs = np.linspace(-10, 10, 100)\n",
    "plt.plot(all_xs, sigmoid(all_xs * w_val[1] + w_val[0]), 'r') # calculate the signmoid\n",
    "plt.grid(), plt.title(\"Sigmoid function and the scatter points\")\n",
    "plt.pause(1)\n",
    "print(epoch, err)"
   ]
  },
  {
   "cell_type": "code",
   "execution_count": null,
   "metadata": {},
   "outputs": [],
   "source": []
  },
  {
   "cell_type": "code",
   "execution_count": null,
   "metadata": {
    "collapsed": true
   },
   "outputs": [],
   "source": []
  }
 ],
 "metadata": {
  "kernelspec": {
   "display_name": "Python 3",
   "language": "python",
   "name": "python3"
  },
  "language_info": {
   "codemirror_mode": {
    "name": "ipython",
    "version": 3
   },
   "file_extension": ".py",
   "mimetype": "text/x-python",
   "name": "python",
   "nbconvert_exporter": "python",
   "pygments_lexer": "ipython3",
   "version": "3.6.3"
  }
 },
 "nbformat": 4,
 "nbformat_minor": 2
}
